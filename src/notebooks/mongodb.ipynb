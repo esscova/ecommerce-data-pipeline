{
 "cells": [
  {
   "cell_type": "markdown",
   "id": "d7382c1f",
   "metadata": {},
   "source": [
    "### CONEXAO COM MONGODB NO DOCKER"
   ]
  },
  {
   "cell_type": "code",
   "execution_count": 2,
   "id": "1618584e",
   "metadata": {},
   "outputs": [],
   "source": [
    "from pymongo import MongoClient, errors\n",
    "import os\n",
    "from dotenv import load_dotenv\n",
    "\n",
    "load_dotenv()\n",
    "MONGO_URI = os.getenv('MONGO_URI')\n",
    "DB = 'ecommerce'\n",
    "COLLECTION = 'orders'"
   ]
  },
  {
   "cell_type": "code",
   "execution_count": null,
   "id": "76c3f068",
   "metadata": {},
   "outputs": [
    {
     "name": "stdout",
     "output_type": "stream",
     "text": [
      "Conexão com MongoDB estabelecida com sucesso!\n",
      "Conectado ao banco 'ecommerce' e coleção 'orders'.\n",
      "Fechando conexão com o MongoDB...\n"
     ]
    }
   ],
   "source": [
    "try:\n",
    "    client = MongoClient(MONGO_URI, serverSelectionTimeoutMS=5000) # timeout de 5 segundos\n",
    "    client.server_info() # força conexao para verficiar se o servidor está ativo\n",
    "    print(\"Conexão com MongoDB estabelecida com sucesso!\")\n",
    "\n",
    "    # selecionar banco de dados e collection\n",
    "    db = client[DB]\n",
    "    collection = db[COLLECTION]\n",
    "    print(f\"Conectado ao banco '{DB}' e coleção '{COLLECTION}'.\")\n",
    "\n",
    "except errors.ConnectionFailure as e:\n",
    "    print(f\"Não foi possível conectar ao MongoDB: {e}\")\n",
    "    client = None\n",
    "    collection = None\n",
    "\n",
    "except Exception as e:\n",
    "    print(f\"Ocorreu um erro inesperado: {e}\")\n",
    "    client = None\n",
    "    collection = None\n",
    "\n",
    "finally: # sempre executa ... mesmo se der erro..\n",
    "    if client: # tem conexao aberta?\n",
    "        print(\"Fechando conexão com o MongoDB...\")\n",
    "        client.close()"
   ]
  }
 ],
 "metadata": {
  "kernelspec": {
   "display_name": "base",
   "language": "python",
   "name": "python3"
  },
  "language_info": {
   "codemirror_mode": {
    "name": "ipython",
    "version": 3
   },
   "file_extension": ".py",
   "mimetype": "text/x-python",
   "name": "python",
   "nbconvert_exporter": "python",
   "pygments_lexer": "ipython3",
   "version": "3.12.2"
  }
 },
 "nbformat": 4,
 "nbformat_minor": 5
}
