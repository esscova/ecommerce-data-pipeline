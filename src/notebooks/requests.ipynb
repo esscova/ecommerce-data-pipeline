{
 "cells": [
  {
   "cell_type": "markdown",
   "id": "0dfe9de8",
   "metadata": {},
   "source": [
    "DADOS DA API"
   ]
  },
  {
   "cell_type": "code",
   "execution_count": 14,
   "id": "ee88cc9e",
   "metadata": {},
   "outputs": [],
   "source": [
    "import requests\n",
    "import json\n",
    "import os\n",
    "from dotenv import load_dotenv"
   ]
  },
  {
   "cell_type": "code",
   "execution_count": 15,
   "id": "0f14ab03",
   "metadata": {},
   "outputs": [],
   "source": [
    "load_dotenv()\n",
    "API_BASE_URL = os.environ.get('API_BASE_URL', 'https://labdados.com/produtos')\n",
    "try:\n",
    "    response = requests.get(API_BASE_URL)\n",
    "    response.raise_for_status()\n",
    "    dados = response.json()\n",
    "except requests.exceptions.HTTPError as err:\n",
    "    print(err)"
   ]
  },
  {
   "cell_type": "code",
   "execution_count": 17,
   "id": "1553220b",
   "metadata": {},
   "outputs": [
    {
     "data": {
      "text/plain": [
       "(9435, list)"
      ]
     },
     "execution_count": 17,
     "metadata": {},
     "output_type": "execute_result"
    }
   ],
   "source": [
    "len(dados), type(dados)\n"
   ]
  },
  {
   "cell_type": "code",
   "execution_count": 19,
   "id": "689cfcd3",
   "metadata": {},
   "outputs": [
    {
     "name": "stdout",
     "output_type": "stream",
     "text": [
      "[\n",
      "    {\n",
      "        \"Produto\": \"Modelagem preditiva\",\n",
      "        \"Categoria do Produto\": \"livros\",\n",
      "        \"Preço\": 92.45,\n",
      "        \"Frete\": 5.6096965236,\n",
      "        \"Data da Compra\": \"01/01/2020\",\n",
      "        \"Vendedor\": \"Thiago Silva\",\n",
      "        \"Local da compra\": \"BA\",\n",
      "        \"Avaliação da compra\": 1,\n",
      "        \"Tipo de pagamento\": \"cartao_credito\",\n",
      "        \"Quantidade de parcelas\": 3,\n",
      "        \"lat\": -13.29,\n",
      "        \"lon\": -41.71\n",
      "    },\n",
      "    {\n",
      "        \"Produto\": \"Iniciando em programação\",\n",
      "        \"Categoria do Produto\": \"livros\",\n",
      "        \"Preço\": 43.84,\n",
      "        \"Frete\": 0.0,\n",
      "        \"Data da Compra\": \"01/01/2020\",\n",
      "        \"Vendedor\": \"Mariana Ferreira\",\n",
      "        \"Local da compra\": \"SP\",\n",
      "        \"Avaliação da compra\": 5,\n",
      "        \"Tipo de pagamento\": \"cartao_credito\",\n",
      "        \"Quantidade de parcelas\": 1,\n",
      "        \"lat\": -22.19,\n",
      "        \"lon\": -48.79\n",
      "    },\n",
      "    {\n",
      "        \"Produto\": \"Pandeiro\",\n",
      "        \"Categoria do Produto\": \"instrumentos musicais\",\n",
      "        \"Preço\": 87.18,\n",
      "        \"Frete\": 2.2265117938,\n",
      "        \"Data da Compra\": \"01/01/2020\",\n",
      "        \"Vendedor\": \"Thiago Silva\",\n",
      "        \"Local da compra\": \"RJ\",\n",
      "        \"Avaliação da compra\": 4,\n",
      "        \"Tipo de pagamento\": \"cartao_credito\",\n",
      "        \"Quantidade de parcelas\": 4,\n",
      "        \"lat\": -22.25,\n",
      "        \"lon\": -42.66\n",
      "    }\n",
      "]\n"
     ]
    }
   ],
   "source": [
    "print(json.dumps(dados[:3], indent=4, ensure_ascii=False))"
   ]
  }
 ],
 "metadata": {
  "kernelspec": {
   "display_name": "base",
   "language": "python",
   "name": "python3"
  },
  "language_info": {
   "codemirror_mode": {
    "name": "ipython",
    "version": 3
   },
   "file_extension": ".py",
   "mimetype": "text/x-python",
   "name": "python",
   "nbconvert_exporter": "python",
   "pygments_lexer": "ipython3",
   "version": "3.12.2"
  }
 },
 "nbformat": 4,
 "nbformat_minor": 5
}
