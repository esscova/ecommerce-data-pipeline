{
 "cells": [
  {
   "cell_type": "markdown",
   "id": "a13f0ad8",
   "metadata": {},
   "source": [
    "### Preparação e tratamento dos dados JSON"
   ]
  },
  {
   "cell_type": "code",
   "execution_count": null,
   "id": "7a712bae",
   "metadata": {},
   "outputs": [
    {
     "name": "stdout",
     "output_type": "stream",
     "text": [
      "\n",
      "Dados obtidos com sucesso. Total: 9435\n"
     ]
    }
   ],
   "source": [
    "import json\n",
    "\n",
    "try:\n",
    "    with open('../data/dados.json', 'r') as f:\n",
    "        data = json.load(f)\n",
    "        if data:\n",
    "            print(f\"\\nDados obtidos com sucesso. Total: {len(data)}\")\n",
    "        else:\n",
    "            print(\"\\nNão foi possível obter dados da API\")\n",
    "except json.JSONDecodeError as e:\n",
    "    print(f\"Erro ao decodificar JSON: {e}\")\n",
    "except FileNotFoundError as e:\n",
    "    print(f\"Arquivo nao encontrado: {e}\")"
   ]
  },
  {
   "cell_type": "code",
   "execution_count": 7,
   "id": "388c2010",
   "metadata": {},
   "outputs": [
    {
     "data": {
      "text/plain": [
       "[{'Produto': 'Modelagem preditiva',\n",
       "  'Categoria do Produto': 'livros',\n",
       "  'Preço': 92.45,\n",
       "  'Frete': 5.6096965236,\n",
       "  'Data da Compra': '01/01/2020',\n",
       "  'Vendedor': 'Thiago Silva',\n",
       "  'Local da compra': 'BA',\n",
       "  'Avaliação da compra': 1,\n",
       "  'Tipo de pagamento': 'cartao_credito',\n",
       "  'Quantidade de parcelas': 3,\n",
       "  'latitude': -13.29,\n",
       "  'longitude': -41.71}]"
      ]
     },
     "execution_count": 7,
     "metadata": {},
     "output_type": "execute_result"
    }
   ],
   "source": [
    "# visualizando \n",
    "data[:1]"
   ]
  },
  {
   "cell_type": "markdown",
   "id": "a378ff5e",
   "metadata": {},
   "source": [
    "### Solicitação BI\n",
    "Equipe de BI pediu que renomear chaves 'lat' -> 'latitude' e 'lon' -> 'longitude'"
   ]
  },
  {
   "cell_type": "code",
   "execution_count": 10,
   "id": "a4c6b06a",
   "metadata": {},
   "outputs": [
    {
     "data": {
      "text/plain": [
       "list"
      ]
     },
     "execution_count": 10,
     "metadata": {},
     "output_type": "execute_result"
    }
   ],
   "source": [
    "type(data)"
   ]
  },
  {
   "cell_type": "code",
   "execution_count": 16,
   "id": "2c2ff683",
   "metadata": {},
   "outputs": [
    {
     "data": {
      "text/plain": [
       "dict_keys(['Produto', 'Categoria do Produto', 'Preço', 'Frete', 'Data da Compra', 'Vendedor', 'Local da compra', 'Avaliação da compra', 'Tipo de pagamento', 'Quantidade de parcelas', 'lat', 'lon'])"
      ]
     },
     "execution_count": 16,
     "metadata": {},
     "output_type": "execute_result"
    }
   ],
   "source": [
    "data[0].keys()"
   ]
  },
  {
   "cell_type": "code",
   "execution_count": 3,
   "id": "240c9831",
   "metadata": {},
   "outputs": [],
   "source": [
    "amostra = data[:3]"
   ]
  },
  {
   "cell_type": "code",
   "execution_count": 4,
   "id": "bc01fc18",
   "metadata": {},
   "outputs": [
    {
     "data": {
      "text/plain": [
       "[{'Produto': 'Modelagem preditiva',\n",
       "  'Categoria do Produto': 'livros',\n",
       "  'Preço': 92.45,\n",
       "  'Frete': 5.6096965236,\n",
       "  'Data da Compra': '01/01/2020',\n",
       "  'Vendedor': 'Thiago Silva',\n",
       "  'Local da compra': 'BA',\n",
       "  'Avaliação da compra': 1,\n",
       "  'Tipo de pagamento': 'cartao_credito',\n",
       "  'Quantidade de parcelas': 3,\n",
       "  'lat': -13.29,\n",
       "  'lon': -41.71},\n",
       " {'Produto': 'Iniciando em programação',\n",
       "  'Categoria do Produto': 'livros',\n",
       "  'Preço': 43.84,\n",
       "  'Frete': 0.0,\n",
       "  'Data da Compra': '01/01/2020',\n",
       "  'Vendedor': 'Mariana Ferreira',\n",
       "  'Local da compra': 'SP',\n",
       "  'Avaliação da compra': 5,\n",
       "  'Tipo de pagamento': 'cartao_credito',\n",
       "  'Quantidade de parcelas': 1,\n",
       "  'lat': -22.19,\n",
       "  'lon': -48.79},\n",
       " {'Produto': 'Pandeiro',\n",
       "  'Categoria do Produto': 'instrumentos musicais',\n",
       "  'Preço': 87.18,\n",
       "  'Frete': 2.2265117938,\n",
       "  'Data da Compra': '01/01/2020',\n",
       "  'Vendedor': 'Thiago Silva',\n",
       "  'Local da compra': 'RJ',\n",
       "  'Avaliação da compra': 4,\n",
       "  'Tipo de pagamento': 'cartao_credito',\n",
       "  'Quantidade de parcelas': 4,\n",
       "  'lat': -22.25,\n",
       "  'lon': -42.66}]"
      ]
     },
     "execution_count": 4,
     "metadata": {},
     "output_type": "execute_result"
    }
   ],
   "source": [
    "amostra"
   ]
  },
  {
   "cell_type": "code",
   "execution_count": 5,
   "id": "92aca5ae",
   "metadata": {},
   "outputs": [
    {
     "data": {
      "text/plain": [
       "[{'Produto': 'Modelagem preditiva',\n",
       "  'Categoria do Produto': 'livros',\n",
       "  'Preço': 92.45,\n",
       "  'Frete': 5.6096965236,\n",
       "  'Data da Compra': '01/01/2020',\n",
       "  'Vendedor': 'Thiago Silva',\n",
       "  'Local da compra': 'BA',\n",
       "  'Avaliação da compra': 1,\n",
       "  'Tipo de pagamento': 'cartao_credito',\n",
       "  'Quantidade de parcelas': 3,\n",
       "  'latitude': -13.29,\n",
       "  'longitude': -41.71},\n",
       " {'Produto': 'Iniciando em programação',\n",
       "  'Categoria do Produto': 'livros',\n",
       "  'Preço': 43.84,\n",
       "  'Frete': 0.0,\n",
       "  'Data da Compra': '01/01/2020',\n",
       "  'Vendedor': 'Mariana Ferreira',\n",
       "  'Local da compra': 'SP',\n",
       "  'Avaliação da compra': 5,\n",
       "  'Tipo de pagamento': 'cartao_credito',\n",
       "  'Quantidade de parcelas': 1,\n",
       "  'latitude': -22.19,\n",
       "  'longitude': -48.79},\n",
       " {'Produto': 'Pandeiro',\n",
       "  'Categoria do Produto': 'instrumentos musicais',\n",
       "  'Preço': 87.18,\n",
       "  'Frete': 2.2265117938,\n",
       "  'Data da Compra': '01/01/2020',\n",
       "  'Vendedor': 'Thiago Silva',\n",
       "  'Local da compra': 'RJ',\n",
       "  'Avaliação da compra': 4,\n",
       "  'Tipo de pagamento': 'cartao_credito',\n",
       "  'Quantidade de parcelas': 4,\n",
       "  'latitude': -22.25,\n",
       "  'longitude': -42.66}]"
      ]
     },
     "execution_count": 5,
     "metadata": {},
     "output_type": "execute_result"
    }
   ],
   "source": [
    "for i in amostra:\n",
    "    if 'lat' and 'lon' in i:\n",
    "    #    print(i)\n",
    "        i['latitude'] = i.pop('lat')\n",
    "        i['longitude'] = i.pop('lon')\n",
    "\n",
    "amostra"
   ]
  },
  {
   "cell_type": "code",
   "execution_count": 6,
   "id": "4fc3d211",
   "metadata": {},
   "outputs": [],
   "source": [
    "# função \n",
    "def renomear_campos_lat_lon(lista_dicts:list) -> list:\n",
    "    for dicionario in lista_dicts:\n",
    "        if 'lat' in dicionario:dicionario['latitude'] = dicionario.pop('lat')\n",
    "        if 'lon' in dicionario:dicionario['longitude'] = dicionario.pop('lon')\n",
    "    return lista_dicts"
   ]
  },
  {
   "cell_type": "code",
   "execution_count": null,
   "id": "fe430878",
   "metadata": {},
   "outputs": [
    {
     "name": "stdout",
     "output_type": "stream",
     "text": [
      "\n",
      "Dados obtidos com sucesso. Total: 9435\n",
      "[\n",
      "    {\n",
      "        \"Produto\": \"Modelagem preditiva\",\n",
      "        \"Categoria do Produto\": \"livros\",\n",
      "        \"Preço\": 92.45,\n",
      "        \"Frete\": 5.6096965236,\n",
      "        \"Data da Compra\": \"01/01/2020\",\n",
      "        \"Vendedor\": \"Thiago Silva\",\n",
      "        \"Local da compra\": \"BA\",\n",
      "        \"Avaliação da compra\": 1,\n",
      "        \"Tipo de pagamento\": \"cartao_credito\",\n",
      "        \"Quantidade de parcelas\": 3,\n",
      "        \"lat\": -13.29,\n",
      "        \"lon\": -41.71\n",
      "    },\n",
      "    {\n",
      "        \"Produto\": \"Iniciando em programação\",\n",
      "        \"Categoria do Produto\": \"livros\",\n",
      "        \"Preço\": 43.84,\n",
      "        \"Frete\": 0.0,\n",
      "        \"Data da Compra\": \"01/01/2020\",\n",
      "        \"Vendedor\": \"Mariana Ferreira\",\n",
      "        \"Local da compra\": \"SP\",\n",
      "        \"Avaliação da compra\": 5,\n",
      "        \"Tipo de pagamento\": \"cartao_credito\",\n",
      "        \"Quantidade de parcelas\": 1,\n",
      "        \"lat\": -22.19,\n",
      "        \"lon\": -48.79\n",
      "    }\n",
      "]\n",
      "\\Renomeando as chaves\n",
      "\n",
      "Chaves renomeadas:\n",
      "[\n",
      "    {\n",
      "        \"Produto\": \"Modelagem preditiva\",\n",
      "        \"Categoria do Produto\": \"livros\",\n",
      "        \"Preço\": 92.45,\n",
      "        \"Frete\": 5.6096965236,\n",
      "        \"Data da Compra\": \"01/01/2020\",\n",
      "        \"Vendedor\": \"Thiago Silva\",\n",
      "        \"Local da compra\": \"BA\",\n",
      "        \"Avaliação da compra\": 1,\n",
      "        \"Tipo de pagamento\": \"cartao_credito\",\n",
      "        \"Quantidade de parcelas\": 3,\n",
      "        \"latitude\": -13.29,\n",
      "        \"longitude\": -41.71\n",
      "    },\n",
      "    {\n",
      "        \"Produto\": \"Iniciando em programação\",\n",
      "        \"Categoria do Produto\": \"livros\",\n",
      "        \"Preço\": 43.84,\n",
      "        \"Frete\": 0.0,\n",
      "        \"Data da Compra\": \"01/01/2020\",\n",
      "        \"Vendedor\": \"Mariana Ferreira\",\n",
      "        \"Local da compra\": \"SP\",\n",
      "        \"Avaliação da compra\": 5,\n",
      "        \"Tipo de pagamento\": \"cartao_credito\",\n",
      "        \"Quantidade de parcelas\": 1,\n",
      "        \"latitude\": -22.19,\n",
      "        \"longitude\": -48.79\n",
      "    }\n",
      "]\n"
     ]
    },
    {
     "name": "stderr",
     "output_type": "stream",
     "text": [
      "<>:9: SyntaxWarning: invalid escape sequence '\\R'\n",
      "<>:9: SyntaxWarning: invalid escape sequence '\\R'\n",
      "/tmp/ipykernel_229600/502382214.py:9: SyntaxWarning: invalid escape sequence '\\R'\n",
      "  print(\"\\Renomeando as chaves\")\n"
     ]
    }
   ],
   "source": [
    "import json\n",
    "\n",
    "try:\n",
    "    with open('../data/dados.json', 'r') as f:\n",
    "        data = json.load(f)\n",
    "        if data:\n",
    "            print(f\"\\nDados obtidos com sucesso. Total: {len(data)}\")\n",
    "            print(json.dumps(data[:2], indent=4, ensure_ascii=False))\n",
    "            print(\"\\nRenomeando as chaves\")\n",
    "            data = renomear_campos_lat_lon(data)\n",
    "            print(\"\\nChaves renomeadas:\")\n",
    "            print(json.dumps(data[:2], indent=4, ensure_ascii=False))\n",
    "        else:\n",
    "            print(\"\\nNão foi possível obter dados da API\")\n",
    "except json.JSONDecodeError as e:\n",
    "    print(f\"Erro ao decodificar JSON: {e}\")\n",
    "except FileNotFoundError as e:\n",
    "    print(f\"Arquivo nao encontrado: {e}\")\n",
    "except Exception as e:\n",
    "    print(f\"Erro inesperado: {e}\")"
   ]
  }
 ],
 "metadata": {
  "kernelspec": {
   "display_name": "base",
   "language": "python",
   "name": "python3"
  },
  "language_info": {
   "codemirror_mode": {
    "name": "ipython",
    "version": 3
   },
   "file_extension": ".py",
   "mimetype": "text/x-python",
   "name": "python",
   "nbconvert_exporter": "python",
   "pygments_lexer": "ipython3",
   "version": "3.12.2"
  }
 },
 "nbformat": 4,
 "nbformat_minor": 5
}
